{
  "nbformat": 4,
  "nbformat_minor": 0,
  "metadata": {
    "colab": {
      "name": "Day 2 sesson 1 Exercise programs.ipynb",
      "provenance": [],
      "collapsed_sections": [],
      "authorship_tag": "ABX9TyMjgARNQKywL+zRfRN9pHUF",
      "include_colab_link": true
    },
    "kernelspec": {
      "name": "python3",
      "display_name": "Python 3"
    }
  },
  "cells": [
    {
      "cell_type": "markdown",
      "metadata": {
        "id": "view-in-github",
        "colab_type": "text"
      },
      "source": [
        "<a href=\"https://colab.research.google.com/github/alvas-education-foundation/Rashmitha/blob/master/Day_2_sesson_1_Exercise_programs.ipynb\" target=\"_parent\"><img src=\"https://colab.research.google.com/assets/colab-badge.svg\" alt=\"Open In Colab\"/></a>"
      ]
    },
    {
      "cell_type": "code",
      "metadata": {
        "id": "sstld5vcoNgg",
        "colab_type": "code",
        "colab": {}
      },
      "source": [
        ""
      ],
      "execution_count": null,
      "outputs": []
    },
    {
      "cell_type": "markdown",
      "metadata": {
        "id": "qU5WYaKWoQz1",
        "colab_type": "text"
      },
      "source": [
        "#print multiples of 3 upto 200 using a list"
      ]
    },
    {
      "cell_type": "code",
      "metadata": {
        "id": "9Af1kSwEoVrN",
        "colab_type": "code",
        "colab": {
          "base_uri": "https://localhost:8080/",
          "height": 54
        },
        "outputId": "177ecb88-a211-4b63-a310-2718b67561d6"
      },
      "source": [
        "def multiple(m, n): \n",
        "    a = range(n, (m * n)+1, n)   \n",
        "    print(*a)   \n",
        "m = 66\n",
        "n = 3\n",
        "multiple(m, n)"
      ],
      "execution_count": 1,
      "outputs": [
        {
          "output_type": "stream",
          "text": [
            "3 6 9 12 15 18 21 24 27 30 33 36 39 42 45 48 51 54 57 60 63 66 69 72 75 78 81 84 87 90 93 96 99 102 105 108 111 114 117 120 123 126 129 132 135 138 141 144 147 150 153 156 159 162 165 168 171 174 177 180 183 186 189 192 195 198\n"
          ],
          "name": "stdout"
        }
      ]
    },
    {
      "cell_type": "markdown",
      "metadata": {
        "id": "BPEG6aXXo2Kn",
        "colab_type": "text"
      },
      "source": [
        "#print the nos only divisable by 5 and 7 between 1000 and 2000 using a list( both inclusive"
      ]
    },
    {
      "cell_type": "code",
      "metadata": {
        "id": "oBXeMCp8o-ek",
        "colab_type": "code",
        "colab": {
          "base_uri": "https://localhost:8080/",
          "height": 34
        },
        "outputId": "765ad1e8-863f-4725-8017-09379d6a48a8"
      },
      "source": [
        "nl=[]\n",
        "for x in range(1000, 2000):\n",
        "    if (x%7==0) and (x%5==0):\n",
        "        nl.append(str(x))\n",
        "print (','.join(nl))"
      ],
      "execution_count": 2,
      "outputs": [
        {
          "output_type": "stream",
          "text": [
            "1015,1050,1085,1120,1155,1190,1225,1260,1295,1330,1365,1400,1435,1470,1505,1540,1575,1610,1645,1680,1715,1750,1785,1820,1855,1890,1925,1960,1995\n"
          ],
          "name": "stdout"
        }
      ]
    },
    {
      "cell_type": "markdown",
      "metadata": {
        "id": "h9OkPaRqph5a",
        "colab_type": "text"
      },
      "source": [
        "#Print perfect squares and divisible by 5 between 500 and 1000( (both inclusive) using list"
      ]
    },
    {
      "cell_type": "code",
      "metadata": {
        "id": "5dAtVO7Lpmt_",
        "colab_type": "code",
        "colab": {
          "base_uri": "https://localhost:8080/",
          "height": 119
        },
        "outputId": "706e06a4-6d68-47ca-e054-81ed0e5f8a68"
      },
      "source": [
        "lower=int(input(\"Enter lower range limit:\"))\n",
        "upper=int(input(\"Enter upper range limit:\"))\n",
        "n=int(input(\"Enter the number to be divided by:\"))\n",
        "for i in range(lower,upper+1):\n",
        "    if(i%n==0):\n",
        "        print(i)"
      ],
      "execution_count": 4,
      "outputs": [
        {
          "output_type": "stream",
          "text": [
            "Enter lower range limit:2\n",
            "Enter upper range limit:6\n",
            "Enter the number to be divided by:2\n",
            "2\n",
            "4\n",
            "6\n"
          ],
          "name": "stdout"
        }
      ]
    },
    {
      "cell_type": "markdown",
      "metadata": {
        "id": "NOXIlNPdp8Tt",
        "colab_type": "text"
      },
      "source": [
        "#Get a string and store word by word as elements in a tuple and find the largest word in the tuple and print it"
      ]
    },
    {
      "cell_type": "code",
      "metadata": {
        "id": "etGLN1InqBXx",
        "colab_type": "code",
        "colab": {
          "base_uri": "https://localhost:8080/",
          "height": 119
        },
        "outputId": "e148f36c-b5ff-4e7e-e2ee-3a91f2a28273"
      },
      "source": [
        "a=[]\n",
        "n= int(input(\"Enter the number of elements in list:\"))\n",
        "for x in range(0,n):\n",
        "    element=input(\"Enter element\" + str(x+1) + \":\")\n",
        "    a.append(element)\n",
        "max1=len(a[0])\n",
        "temp=a[0]\n",
        "for i in a:\n",
        "    if(len(i)>max1):\n",
        "       max1=len(i)\n",
        "       temp=i\n",
        "print(\"The word with the longest length is:\")\n",
        "print(temp)"
      ],
      "execution_count": 5,
      "outputs": [
        {
          "output_type": "stream",
          "text": [
            "Enter the number of elements in list:3\n",
            "Enter element1:2\n",
            "Enter element2:5\n",
            "Enter element3:6\n",
            "The word with the longest length is:\n",
            "2\n"
          ],
          "name": "stdout"
        }
      ]
    },
    {
      "cell_type": "markdown",
      "metadata": {
        "id": "cYDVT5dZqQ8D",
        "colab_type": "text"
      },
      "source": [
        "#Get rollno and marks (Rollno, mark) as list of tuples for n number of students through keyboard and print them in marks descending order with rollno."
      ]
    },
    {
      "cell_type": "code",
      "metadata": {
        "id": "ZlFrZPybqZtv",
        "colab_type": "code",
        "colab": {
          "base_uri": "https://localhost:8080/",
          "height": 119
        },
        "outputId": "52a9cb88-97b2-4a4e-a5fe-653cd1828e29"
      },
      "source": [
        "print(sorted([(input(\"Enter rollno: \"), input(\"Enter marks: \")) for i in range(int(input(\"Enter number of students\")))], key=lambda x: x[1],reverse=True))"
      ],
      "execution_count": 6,
      "outputs": [
        {
          "output_type": "stream",
          "text": [
            "Enter number of students2\n",
            "Enter rollno: 25\n",
            "Enter marks: 36\n",
            "Enter rollno: 21\n",
            "Enter marks: 54\n",
            "[('21', '54'), ('25', '36')]\n"
          ],
          "name": "stdout"
        }
      ]
    },
    {
      "cell_type": "markdown",
      "metadata": {
        "id": "gw2KHFhorS5n",
        "colab_type": "text"
      },
      "source": [
        "#Get name and salary (name, salary) as list of tuples for n number of employees through keyboard and print them in name alphabetical order with salary"
      ]
    },
    {
      "cell_type": "code",
      "metadata": {
        "id": "4QiqHRQ4rapb",
        "colab_type": "code",
        "colab": {
          "base_uri": "https://localhost:8080/",
          "height": 119
        },
        "outputId": "b05ebcb5-d3cc-4fd4-e3f2-41d287ca8593"
      },
      "source": [
        "print(sorted([(input(\"Enter name: \"), input(\"Enter salary: \")) for i in range(int(input(\"Enter number of employees\")))], key=lambda x: x[0]))"
      ],
      "execution_count": 8,
      "outputs": [
        {
          "output_type": "stream",
          "text": [
            "Enter number of employees2\n",
            "Enter name: rashmi\n",
            "Enter salary: 25000\n",
            "Enter name: sushmi\n",
            "Enter salary: 30000\n",
            "[('rashmi', '25000'), ('sushmi', '30000')]\n"
          ],
          "name": "stdout"
        }
      ]
    }
  ]
}